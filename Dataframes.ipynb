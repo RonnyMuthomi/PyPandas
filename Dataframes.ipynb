{
 "cells": [
  {
   "cell_type": "code",
   "execution_count": 1,
   "id": "c3284837",
   "metadata": {},
   "outputs": [
    {
     "name": "stdout",
     "output_type": "stream",
     "text": [
      "1    Datafreames\n",
      "2         Series\n",
      "3       Cleaning\n",
      "4      Exploting\n",
      "dtype: object\n"
     ]
    }
   ],
   "source": [
    "import pandas as pd\n",
    "\n",
    "a = [\"Datafreames\", \"Series\", \"Cleaning\", \"Exploting\"]\n",
    "\n",
    "myvar = pd.Series(a, index = [1, 2, 3, 4])\n",
    "\n",
    "print(myvar)"
   ]
  },
  {
   "cell_type": "code",
   "execution_count": 7,
   "id": "1676f3ad",
   "metadata": {},
   "outputs": [
    {
     "name": "stdout",
     "output_type": "stream",
     "text": [
      "calories    Blue\n",
      "numbers        2\n",
      "Name: 2, dtype: object\n"
     ]
    }
   ],
   "source": [
    "import pandas as pd\n",
    "\n",
    "dataset = {\n",
    "    \"calories\" : [\"Green\", \"Blue\", \"Yellow\", \"Purple\", \"orange\"],\n",
    "    \"numbers\"  : [1, 2, 3, 4, 5]\n",
    "}\n",
    "\n",
    "output = pd.DataFrame(dataset, index = [1, 2, 3, 4, 5])\n",
    "\n",
    "print(output.loc[2])"
   ]
  },
  {
   "cell_type": "code",
   "execution_count": 21,
   "id": "983eb115",
   "metadata": {},
   "outputs": [
    {
     "data": {
      "image/png": "[encoded data removed]",
      "text/plain": [
       "<Figure size 640x480 with 1 Axes>"
      ]
     },
     "metadata": {},
     "output_type": "display_data"
    }
   ],
   "source": [
    "import pandas as pd\n",
    "import matplotlib.pyplot as plt\n",
    "\n",
    "#pd.options.display.max_rows = 9999\n",
    "\n",
    "df = pd.read_csv('C:/Users/ronny somi/Downloads/data.csv')\n",
    "\n",
    "df.dropna(inplace = True)\n",
    "\n",
    "df.drop_duplicates(inplace = True)\n",
    "\n",
    "#df.corr()\n",
    "\n",
    "df[\"Duration\"].plot(kind = 'hist')\n",
    "\n",
    "plt.show()\n",
    "\n",
    "\n",
    "#print(df.to_string())\n",
    "\n"
   ]
  },
  {
   "cell_type": "code",
   "execution_count": null,
   "id": "fac12897",
   "metadata": {},
   "outputs": [],
   "source": []
  }
 ],
 "metadata": {
  "kernelspec": {
   "display_name": "Python 3 (ipykernel)",
   "language": "python",
   "name": "python3"
  },
  "language_info": {
   "codemirror_mode": {
    "name": "ipython",
    "version": 3
   },
   "file_extension": ".py",
   "mimetype": "text/x-python",
   "name": "python",
   "nbconvert_exporter": "python",
   "pygments_lexer": "ipython3",
   "version": "3.11.5"
  }
 },
 "nbformat": 4,
 "nbformat_minor": 5
}
