{
 "cells": [
  {
   "cell_type": "code",
   "execution_count": null,
   "id": "8a28550c",
   "metadata": {},
   "outputs": [],
   "source": [
    "mean speed of all the rides\n",
    "\n",
    "Number of rides taken in february\n",
    "\n",
    "Number of rides where tip more than $50\n",
    "\n",
    "Number of rides where drop was JFK airport"
   ]
  },
  {
   "cell_type": "code",
   "execution_count": 19,
   "id": "c1fe87d3",
   "metadata": {},
   "outputs": [],
   "source": [
    "import numpy as np\n",
    "\n",
    "text = np.genfromtxt(r'C:\\Users\\ronny somi\\Documents\\PYTHON\\nyc_taxis.csv', delimiter = ',', skip_header= True)\n",
    "\n",
    "\n"
   ]
  },
  {
   "cell_type": "code",
   "execution_count": 22,
   "id": "7949cef2",
   "metadata": {},
   "outputs": [
    {
     "name": "stdout",
     "output_type": "stream",
     "text": [
      "32.24258580925573\n"
     ]
    }
   ],
   "source": [
    "speed = text[:, 7]/ (text[:, 8]/3600)\n",
    "\n",
    "mean_speed = speed.mean()\n",
    "\n",
    "print(mean_speed)"
   ]
  },
  {
   "cell_type": "code",
   "execution_count": 26,
   "id": "1bd5d567",
   "metadata": {},
   "outputs": [
    {
     "name": "stdout",
     "output_type": "stream",
     "text": [
      "13333\n"
     ]
    }
   ],
   "source": [
    "rides_feb =text[text[:, 1] == 2, 1]\n",
    "print(rides_feb.shape[0])"
   ]
  },
  {
   "cell_type": "code",
   "execution_count": 27,
   "id": "74b60fd6",
   "metadata": {},
   "outputs": [
    {
     "name": "stdout",
     "output_type": "stream",
     "text": [
      "16\n"
     ]
    }
   ],
   "source": [
    "print(text[text[:, -3] > 50, -3].shape[0])"
   ]
  },
  {
   "cell_type": "code",
   "execution_count": 28,
   "id": "10fc87ba",
   "metadata": {},
   "outputs": [
    {
     "name": "stdout",
     "output_type": "stream",
     "text": [
      "11832\n"
     ]
    }
   ],
   "source": [
    "print(text[text[:, 6] ==2, 6].shape[0])"
   ]
  },
  {
   "cell_type": "code",
   "execution_count": null,
   "id": "0f1c9e39",
   "metadata": {},
   "outputs": [],
   "source": []
  }
 ],
 "metadata": {
  "kernelspec": {
   "display_name": "Python 3 (ipykernel)",
   "language": "python",
   "name": "python3"
  },
  "language_info": {
   "codemirror_mode": {
    "name": "ipython",
    "version": 3
   },
   "file_extension": ".py",
   "mimetype": "text/x-python",
   "name": "python",
   "nbconvert_exporter": "python",
   "pygments_lexer": "ipython3",
   "version": "3.11.5"
  }
 },
 "nbformat": 4,
 "nbformat_minor": 5
}
