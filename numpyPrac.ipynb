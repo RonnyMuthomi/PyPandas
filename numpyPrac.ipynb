{
 "cells": [
  {
   "cell_type": "code",
   "execution_count": null,
   "id": "7748ba3a",
   "metadata": {},
   "outputs": [],
   "source": [
    "shape of the dataset\n",
    "\n",
    "find maximum, minimum and average score of each student\n",
    "\n",
    "Calculate the total score for each subject\n",
    "\n",
    "Retrieve scores for the first 3 students\n",
    "\n",
    "Extract the scores for Math\n",
    "\n",
    "Find how many students scored above 80 in English\n"
   ]
  },
  {
   "cell_type": "code",
   "execution_count": 6,
   "id": "7f7187ca",
   "metadata": {},
   "outputs": [
    {
     "name": "stdout",
     "output_type": "stream",
     "text": [
      "Student    Math     English  Science  History  Art     \n",
      "Student 1  78       74       99       69       98      \n",
      "Student 2  64       90       59       65       74      \n",
      "Student 3  77       59       69       76       63      \n",
      "Student 4  51       79       64       72       57      \n",
      "Student 5  57       67       59       88       71      \n",
      "Student 6  59       59       72       86       84      \n",
      "Student 7  69       71       89       61       75      \n",
      "Student 8  53       67       68       61       83      \n",
      "Student 9  50       88       81       94       79      \n",
      "Student 10 78       99       85       64       72      \n"
     ]
    }
   ],
   "source": [
    "import numpy as np\n",
    "\n",
    "# Example dataset\n",
    "students_scores = np.random.randint(50, 100, (10, 5))  # 10 students, 5 subjects\n",
    "subjects = ['Math', 'English', 'Science', 'History', 'Art']\n",
    "\n",
    "# Print headers\n",
    "print(f\"{'Student':<10} \" + \" \".join(f\"{sub:<8}\" for sub in subjects))\n",
    "\n",
    "# Print scores\n",
    "for i, scores in enumerate(students_scores, start=1):\n",
    "    print(f\"{'Student ' + str(i):<10} \" + \" \".join(f\"{score:<8}\" for score in scores))\n",
    "\n"
   ]
  },
  {
   "cell_type": "code",
   "execution_count": 11,
   "id": "a1233254",
   "metadata": {},
   "outputs": [
    {
     "name": "stdout",
     "output_type": "stream",
     "text": [
      "(10, 5)\n"
     ]
    }
   ],
   "source": [
    " print(students_scores.shape)"
   ]
  },
  {
   "cell_type": "code",
   "execution_count": 13,
   "id": "96e9a589",
   "metadata": {},
   "outputs": [
    {
     "data": {
      "text/plain": [
       "99"
      ]
     },
     "execution_count": 13,
     "metadata": {},
     "output_type": "execute_result"
    }
   ],
   "source": [
    "np.max(students_scores[:])"
   ]
  },
  {
   "cell_type": "code",
   "execution_count": 15,
   "id": "8afc2de3",
   "metadata": {},
   "outputs": [
    {
     "data": {
      "text/plain": [
       "50"
      ]
     },
     "execution_count": 15,
     "metadata": {},
     "output_type": "execute_result"
    }
   ],
   "source": [
    "np.min(students_scores[:])"
   ]
  },
  {
   "cell_type": "code",
   "execution_count": 17,
   "id": "0b1a065a",
   "metadata": {},
   "outputs": [
    {
     "data": {
      "text/plain": [
       "72.52"
      ]
     },
     "execution_count": 17,
     "metadata": {},
     "output_type": "execute_result"
    }
   ],
   "source": [
    "np.mean(students_scores[:])"
   ]
  },
  {
   "cell_type": "code",
   "execution_count": 18,
   "id": "4c3bdb8f",
   "metadata": {},
   "outputs": [
    {
     "name": "stdout",
     "output_type": "stream",
     "text": [
      "math score : 636\n"
     ]
    }
   ],
   "source": [
    "math_total =0\n",
    "\n",
    "for row in students_scores:\n",
    "    math_total += row[0]\n",
    "    \n",
    "print(f\"math score : {math_total}\")"
   ]
  },
  {
   "cell_type": "code",
   "execution_count": 22,
   "id": "81c28881",
   "metadata": {},
   "outputs": [
    {
     "data": {
      "text/plain": [
       "636"
      ]
     },
     "execution_count": 22,
     "metadata": {},
     "output_type": "execute_result"
    }
   ],
   "source": [
    "np.sum(students_scores[:, 0])"
   ]
  },
  {
   "cell_type": "code",
   "execution_count": 24,
   "id": "00254730",
   "metadata": {},
   "outputs": [
    {
     "name": "stdout",
     "output_type": "stream",
     "text": [
      "1114\n"
     ]
    }
   ],
   "source": [
    "#students_scores[:3]\n",
    "\n",
    "first_three_rows = students_scores[:3]\n",
    "\n",
    "total =np.sum(first_three_rows)\n",
    "\n",
    "print(total)"
   ]
  },
  {
   "cell_type": "code",
   "execution_count": null,
   "id": "f16341ab",
   "metadata": {},
   "outputs": [],
   "source": []
  }
 ],
 "metadata": {
  "kernelspec": {
   "display_name": "Python 3 (ipykernel)",
   "language": "python",
   "name": "python3"
  },
  "language_info": {
   "codemirror_mode": {
    "name": "ipython",
    "version": 3
   },
   "file_extension": ".py",
   "mimetype": "text/x-python",
   "name": "python",
   "nbconvert_exporter": "python",
   "pygments_lexer": "ipython3",
   "version": "3.11.5"
  }
 },
 "nbformat": 4,
 "nbformat_minor": 5
}
